{
 "cells": [
  {
   "cell_type": "code",
   "execution_count": null,
   "metadata": {},
   "outputs": [
    {
     "name": "stdout",
     "output_type": "stream",
     "text": [
      "Reordering from smallest to largest:\n",
      "O(10,000) < O(nlog2(n)) < O(n^5) < O(2^n) < O(n!)\n",
      "Reordering from smallest to largest:\n",
      "O(n^0.5) < O(nlog2(n)) < O(n + n^2 + n^3)\n",
      "Loop efficiency with doIT(...) having efficiency O(5n):\n",
      "Overall efficiency = O(n^2)\n",
      "Algorithm runtime for O(n^3) with step time 1 nanosecond and n=1000:\n",
      "Total time: 1.0 seconds\n",
      "\n",
      "--- Mean Calculation ---\n",
      "Mean: 0\n",
      "\n",
      "--- Matrix Addition ---\n"
     ]
    }
   ],
   "source": [
    "# Reordering Efficiency\n",
    "# Exercise 1.1\n",
    "print(\"Reordering from smallest to largest:\")\n",
    "print(\"O(10,000) < O(nlog2(n)) < O(n^5) < O(2^n) < O(n!)\")\n",
    "\n",
    "# Exercise 1.2\n",
    "print(\"Reordering from smallest to largest:\")\n",
    "print(\"O(n^0.5) < O(nlog2(n)) < O(n + n^2 + n^3)\")\n",
    "\n",
    "# Loop Efficiency\n",
    "# Exercise 1.3\n",
    "print(\"Loop efficiency with doIT(...) having efficiency O(5n):\")\n",
    "print(\"Overall efficiency = O(n^2)\")\n",
    "\n",
    "# Algorithm Runtime\n",
    "# Exercise 1.4\n",
    "print(\"Algorithm runtime for O(n^3) with step time 1 nanosecond and n=1000:\")\n",
    "n = 1000\n",
    "step_time = 1e-9  # 1 nanosecond\n",
    "total_time = (n ** 3) * step_time\n",
    "print(f\"Total time: {total_time} seconds\")\n",
    "\n",
    "# Calculate Mean\n",
    "# Exercise 1.5.i\n",
    "print(\"\\n--- Mean Calculation ---\")\n",
    "sum_ = 0\n",
    "n = 0\n",
    "x = int(input(\"Enter a number (-999 to stop): \"))\n",
    "while x != -999:\n",
    "    n += 1\n",
    "    sum_ += x\n",
    "    x = int(input(\"Enter a number (-999 to stop): \"))\n",
    "mean = sum_ / n if n > 0 else 0\n",
    "print(\"Mean:\", mean)\n",
    "\n",
    "# Matrix Addition\n",
    "# Exercise 1.5.ii\n",
    "print(\"\\n--- Matrix Addition ---\")\n",
    "n = int(input(\"Enter matrix size: \"))\n",
    "print(\"Enter values for Matrix A:\")\n",
    "a = [[int(input(f\"Enter a[{i}][{j}]: \")) for j in range(n)] for i in range(n)]\n",
    "print(\"Enter values for Matrix B:\")\n",
    "b = [[int(input(f\"Enter b[{i}][{j}]: \")) for j in range(n)] for i in range(n)]\n",
    "\n",
    "# Resultant matrix\n",
    "c = [[0 for _ in range(n)] for _ in range(n)]\n",
    "for i in range(n):\n",
    "    for j in range(n):\n",
    "        c[i][j] = a[i][j] + b[i][j]\n",
    "\n",
    "print(\"Resultant Matrix:\")\n",
    "for row in c:\n",
    "    print(row)\n"
   ]
  }
 ],
 "metadata": {
  "kernelspec": {
   "display_name": "Python 3",
   "language": "python",
   "name": "python3"
  },
  "language_info": {
   "codemirror_mode": {
    "name": "ipython",
    "version": 3
   },
   "file_extension": ".py",
   "mimetype": "text/x-python",
   "name": "python",
   "nbconvert_exporter": "python",
   "pygments_lexer": "ipython3",
   "version": "3.12.5"
  }
 },
 "nbformat": 4,
 "nbformat_minor": 2
}
