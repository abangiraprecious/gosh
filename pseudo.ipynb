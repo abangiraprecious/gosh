{
 "cells": [
  {
   "cell_type": "code",
   "execution_count": null,
   "metadata": {},
   "outputs": [
    {
     "name": "stdout",
     "output_type": "stream",
     "text": [
      "6\n"
     ]
    }
   ],
   "source": [
    "# To find the summation of N numbers in an array of A. \n",
    "# writ the code in python \n",
    "def summation(A, N):\n",
    "    return sum(A[:N])\n",
    "    # test the function\n",
    "A = [1, 2, 3, 4, 5]\n",
    "N = 3\n",
    "print(summation(A, N))  # Output: 6\n",
    "# To find the summation of N numbers in an array of A. \n",
    "# 1 Set sum = 0\n",
    "# 2 for j = 0 to N-1 do :\n",
    "# 3 beginsum = sum + A[j] 4 end\n",
    "\n",
    "#using the pseudo code, write the real code in python  "
   ]
  }
 ],
 "metadata": {
  "kernelspec": {
   "display_name": "Python 3",
   "language": "python",
   "name": "python3"
  },
  "language_info": {
   "codemirror_mode": {
    "name": "ipython",
    "version": 3
   },
   "file_extension": ".py",
   "mimetype": "text/x-python",
   "name": "python",
   "nbconvert_exporter": "python",
   "pygments_lexer": "ipython3",
   "version": "3.12.5"
  }
 },
 "nbformat": 4,
 "nbformat_minor": 2
}
