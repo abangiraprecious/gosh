{
 "cells": [
  {
   "cell_type": "code",
   "execution_count": 9,
   "metadata": {},
   "outputs": [
    {
     "name": "stdout",
     "output_type": "stream",
     "text": [
      "The summation is: 6\n"
     ]
    }
   ],
   "source": [
    "# Initialize the array and the sum\n",
    "A = [1, 2, 3]  # Example array\n",
    "N = len(A)           # Length of the array\n",
    "sum = 0\n",
    "\n",
    "# Loop through the array\n",
    "for j in range(N):\n",
    "    sum = sum + A[j]\n",
    "\n",
    "print(\"The summation is:\", sum)\n"
   ]
  },
  {
   "cell_type": "code",
   "execution_count": 11,
   "metadata": {},
   "outputs": [
    {
     "name": "stdout",
     "output_type": "stream",
     "text": [
      "12\n"
     ]
    }
   ],
   "source": [
    "#find a summation of N numbers in an array of A\n",
    "\n",
    "A = [2, 4, 6]\n",
    "sum = 0\n",
    "N = len(A)\n",
    "\n",
    "for j in range(N):\n",
    "    sum = sum + A[j]\n",
    "\n",
    "print(f\"{sum}\")"
   ]
  },
  {
   "cell_type": "code",
   "execution_count": null,
   "metadata": {},
   "outputs": [],
   "source": [
    "#Bubble Sort"
   ]
  }
 ],
 "metadata": {
  "kernelspec": {
   "display_name": "Python 3",
   "language": "python",
   "name": "python3"
  },
  "language_info": {
   "codemirror_mode": {
    "name": "ipython",
    "version": 3
   },
   "file_extension": ".py",
   "mimetype": "text/x-python",
   "name": "python",
   "nbconvert_exporter": "python",
   "pygments_lexer": "ipython3",
   "version": "3.12.5"
  }
 },
 "nbformat": 4,
 "nbformat_minor": 2
}
