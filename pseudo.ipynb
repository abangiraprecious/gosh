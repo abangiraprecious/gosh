{
 "cells": [
  {
   "cell_type": "code",
   "execution_count": 1,
   "metadata": {},
   "outputs": [
    {
     "name": "stdout",
     "output_type": "stream",
     "text": [
      "Element is at index 3\n"
     ]
    }
   ],
   "source": [
    "# Binary Search\n",
    "def binary_search(array,target):\n",
    "    left=0\n",
    "    right=len(array)-1\n",
    "    while left<=right:\n",
    "        mid=(left+right)//2\n",
    "\n",
    "        if array[mid]==target:\n",
    "            return mid\n",
    "        elif array[mid]<target:\n",
    "            left=mid+1\n",
    "        else:\n",
    "            right=mid-1\n",
    "    return -1\n",
    "\n",
    "array=[1,3,5,7,9,10]        \n",
    "target=7\n",
    "result=binary_search(array,target)\n",
    "\n",
    "if result!= -1:\n",
    "    print(\"Element is at index\",result)\n",
    "else:\n",
    "    print(\"Element not found\")    \n"
   ]
  },
  {
   "cell_type": "code",
   "execution_count": 11,
   "metadata": {},
   "outputs": [
    {
     "name": "stdout",
     "output_type": "stream",
     "text": [
      "12\n"
     ]
    }
   ],
   "source": [
    "#find a summation of N numbers in an array of A\n",
    "\n",
    "A = [2, 4, 6]\n",
    "sum = 0\n",
    "N = len(A)\n",
    "\n",
    "for j in range(N):\n",
    "    sum = sum + A[j]\n",
    "\n",
    "print(f\"{sum}\")"
   ]
  },
  {
   "cell_type": "code",
   "execution_count": null,
   "metadata": {},
   "outputs": [],
   "source": [
    "#Bubble Sort\n",
    "\n",
    "N = [2,1,4,3,5]\n",
    "\n",
    "for i in range(len(N)):\n",
    "    for j in range(len(N-1))\n",
    "    if a[j] > a[j+1]\n",
    "    swap (a[j], a(j+1))\n",
    "\n",
    "\n",
    "# Bubble Sort\n",
    "N = [2, 1, 4, 3, 5]\n",
    "\n",
    "for i in range(len(N)):\n",
    "    for j in range(len(N) - 1):  # Fix: Subtract 1 from len(N)\n",
    "        if N[j] > N[j + 1]:     # Fix: Correct variable name from 'a' to 'N'\n",
    "            # Swap the elements\n",
    "            N[j], N[j + 1] = N[j + 1], N[j]  # Fix: Correct syntax for swapping\n",
    "\n",
    "print(\"Sorted list:\", N)\n"
   ]
  },
  {
   "cell_type": "code",
   "execution_count": null,
   "metadata": {},
   "outputs": [],
   "source": [
    "# Array is built-in in Python using lists\n",
    "arr = [1, 2, 3]\n",
    "\n",
    "# Access\n",
    "print(arr[1])  # O(1)\n",
    "\n",
    "# Insert\n",
    "arr.append(4)  # O(1)\n",
    "arr.insert(1, 5)  # O(n)\n",
    "\n",
    "# Delete\n",
    "arr.pop(2)  # O(n)\n",
    "arr.remove(3)  # O(n)\n",
    "\n",
    "# Search\n",
    "print(2 in arr)  # O(n)\n"
   ]
  },
  {
   "cell_type": "code",
   "execution_count": null,
   "metadata": {},
   "outputs": [],
   "source": [
    "class Node:\n",
    "    def __init__(self, data):\n",
    "        self.data = data\n",
    "        self.next = None\n",
    "\n",
    "class LinkedList:\n",
    "    def __init__(self):\n",
    "        self.head = None\n",
    "\n",
    "    def insert_at_head(self, data):  # O(1)\n",
    "        new_node = Node(data)\n",
    "        new_node.next = self.head\n",
    "        self.head = new_node\n",
    "\n",
    "    def search(self, key):  # O(n)\n",
    "        current = self.head\n",
    "        while current:\n",
    "            if current.data == key:\n",
    "                return True\n",
    "            current = current.next\n",
    "        return False\n",
    "\n",
    "    def delete(self, key):  # O(n)\n",
    "        current = self.head\n",
    "        if current and current.data == key:\n",
    "            self.head = current.next\n",
    "            return\n",
    "        prev = None\n",
    "        while current and current.data != key:\n",
    "            prev = current\n",
    "            current = current.next\n",
    "        if current:\n",
    "            prev.next = current.next\n"
   ]
  },
  {
   "cell_type": "code",
   "execution_count": null,
   "metadata": {},
   "outputs": [],
   "source": [
    "# Using Python list as a stack\n",
    "stack = []\n",
    "\n",
    "# Push\n",
    "stack.append(10)  # O(1)\n",
    "\n",
    "# Pop\n",
    "stack.pop()  # O(1)\n",
    "\n",
    "# Peek\n",
    "print(stack[-1])  # O(1)\n"
   ]
  },
  {
   "cell_type": "code",
   "execution_count": null,
   "metadata": {},
   "outputs": [],
   "source": [
    "from collections import deque\n",
    "\n",
    "# Using deque for efficient operations\n",
    "queue = deque()\n",
    "\n",
    "# Enqueue\n",
    "queue.append(10)  # O(1)\n",
    "\n",
    "# Dequeue\n",
    "queue.popleft()  # O(1)\n",
    "\n",
    "# Peek\n",
    "print(queue[0])  # O(1)\n"
   ]
  },
  {
   "cell_type": "code",
   "execution_count": null,
   "metadata": {},
   "outputs": [],
   "source": [
    "# Using Python dictionary\n",
    "hash_table = {}\n",
    "\n",
    "# Insert\n",
    "hash_table['key1'] = 'value1'  # O(1)\n",
    "\n",
    "# Search\n",
    "print(hash_table.get('key1'))  # O(1)\n",
    "\n",
    "# Delete\n",
    "del hash_table['key1']  # O(1)\n"
   ]
  },
  {
   "cell_type": "code",
   "execution_count": null,
   "metadata": {},
   "outputs": [],
   "source": [
    "class TreeNode:\n",
    "    def __init__(self, data):\n",
    "        self.data = data\n",
    "        self.left = None\n",
    "        self.right = None\n",
    "\n",
    "class BST:\n",
    "    def __init__(self):\n",
    "        self.root = None\n",
    "\n",
    "    def insert(self, root, data):  # O(log n)\n",
    "        if not root:\n",
    "            return TreeNode(data)\n",
    "        if data < root.data:\n",
    "            root.left = self.insert(root.left, data)\n",
    "        else:\n",
    "            root.right = self.insert(root.right, data)\n",
    "        return root\n",
    "\n",
    "    def search(self, root, key):  # O(log n)\n",
    "        if not root or root.data == key:\n",
    "            return root\n",
    "        if key < root.data:\n",
    "            return self.search(root.left, key)\n",
    "        return self.search(root.right, key)\n"
   ]
  },
  {
   "cell_type": "code",
   "execution_count": null,
   "metadata": {},
   "outputs": [],
   "source": [
    "# Adjacency List representation\n",
    "graph = {\n",
    "    'A': ['B', 'C'],\n",
    "    'B': ['A', 'D'],\n",
    "    'C': ['A', 'D'],\n",
    "    'D': ['B', 'C']\n",
    "}\n",
    "\n",
    "# Depth-First Search (DFS) - O(V + E)\n",
    "def dfs(graph, start, visited=None):\n",
    "    if visited is None:\n",
    "        visited = set()\n",
    "    visited.add(start)\n",
    "    for neighbor in graph[start]:\n",
    "        if neighbor not in visited:\n",
    "            dfs(graph, neighbor, visited)\n",
    "    return visited\n",
    "\n",
    "# Breadth-First Search (BFS) - O(V + E)\n",
    "from collections import deque\n",
    "def bfs(graph, start):\n",
    "    visited = set()\n",
    "    queue = deque([start])\n",
    "    while queue:\n",
    "        vertex = queue.popleft()\n",
    "        if vertex not in visited:\n",
    "            visited.add(vertex)\n",
    "            queue.extend(set(graph[vertex]) - visited)\n",
    "    return visited\n"
   ]
  },
  {
   "cell_type": "code",
   "execution_count": null,
   "metadata": {},
   "outputs": [],
   "source": [
    "def factorial(n):\n",
    "    if n == 0:\n",
    "        return 1\n",
    "    return n * factorial(n - 1)\n",
    "\n",
    "# Example usage\n",
    "print(factorial(5))  # Output: 120"
   ]
  },
  {
   "cell_type": "code",
   "execution_count": null,
   "metadata": {},
   "outputs": [],
   "source": [
    "def fibonacci(n):\n",
    "    if n <= 1:\n",
    "        return n\n",
    "    return fibonacci(n - 1) + fibonacci(n - 2)\n",
    "\n",
    "# Example usage\n",
    "print(fibonacci(5))  # Output: 5"
   ]
  },
  {
   "cell_type": "code",
   "execution_count": null,
   "metadata": {},
   "outputs": [],
   "source": [
    "def merge_sort(arr):\n",
    "    if len(arr) > 1:\n",
    "        mid = len(arr) // 2\n",
    "        left_half = arr[:mid]\n",
    "        right_half = arr[mid:]\n",
    "\n",
    "        merge_sort(left_half)\n",
    "        merge_sort(right_half)\n",
    "\n",
    "        i = j = k = 0\n",
    "\n",
    "        while i < len(left_half) and j < len(right_half):\n",
    "            if left_half[i] < right_half[j]:\n",
    "                arr[k] = left_half[i]\n",
    "                i += 1\n",
    "            else:\n",
    "                arr[k] = right_half[j]\n",
    "                j += 1\n",
    "            k += 1\n",
    "\n",
    "        while i < len(left_half):\n",
    "            arr[k] = left_half[i]\n",
    "            i += 1\n",
    "            k += 1\n",
    "\n",
    "        while j < len(right_half):\n",
    "            arr[k] = right_half[j]\n",
    "            j += 1\n",
    "            k += 1\n",
    "\n",
    "# Example usage\n",
    "arr = [38, 27, 43, 3, 9, 82, 10]\n",
    "merge_sort(arr)\n",
    "print(arr)  # Output: [3, 9, 10, 27, 38, 43, 82]\n"
   ]
  },
  {
   "cell_type": "code",
   "execution_count": null,
   "metadata": {},
   "outputs": [],
   "source": [
    "def quick_sort(arr):\n",
    "    if len(arr) <= 1:\n",
    "        return arr\n",
    "    pivot = arr[len(arr) // 2]\n",
    "    left = [x for x in arr if x < pivot]\n",
    "    middle = [x for x in arr if x == pivot]\n",
    "    right = [x for x in arr if x > pivot]\n",
    "    return quick_sort(left) + middle + quick_sort(right)\n",
    "\n",
    "# Example usage\n",
    "arr = [38, 27, 43, 3, 9, 82, 10]\n",
    "sorted_arr = quick_sort(arr)\n",
    "print(sorted_arr)  # Output: [3, 9, 10, 27, 38, 43, 82]\n"
   ]
  },
  {
   "cell_type": "code",
   "execution_count": null,
   "metadata": {},
   "outputs": [],
   "source": [
    "def linear_search(arr, target):\n",
    "    for i in range(len(arr)):\n",
    "        if arr[i] == target:\n",
    "            return i  # Return the index of the target\n",
    "    return -1  # Return -1 if not found\n",
    "\n",
    "# Example usage\n",
    "arr = [38, 27, 43, 3, 9, 82, 10]\n",
    "target = 43\n",
    "print(linear_search(arr, target))  # Output: 2\n"
   ]
  }
 ],
 "metadata": {
  "kernelspec": {
   "display_name": "Python 3",
   "language": "python",
   "name": "python3"
  },
  "language_info": {
   "codemirror_mode": {
    "name": "ipython",
    "version": 3
   },
   "file_extension": ".py",
   "mimetype": "text/x-python",
   "name": "python",
   "nbconvert_exporter": "python",
   "pygments_lexer": "ipython3",
   "version": "3.12.5"
  }
 },
 "nbformat": 4,
 "nbformat_minor": 2
}
